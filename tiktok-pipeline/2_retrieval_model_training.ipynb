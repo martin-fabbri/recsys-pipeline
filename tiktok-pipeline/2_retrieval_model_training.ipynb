{
  "cells": [
    {
      "cell_type": "markdown",
      "metadata": {
        "id": "view-in-github",
        "colab_type": "text"
      },
      "source": [
        "<a href=\"https://colab.research.google.com/github/martin-fabbri/recsys-pipeline/blob/main/tiktok-pipeline/2_retrieval_model_training.ipynb\" target=\"_parent\"><img src=\"https://colab.research.google.com/assets/colab-badge.svg\" alt=\"Open In Colab\"/></a>"
      ]
    },
    {
      "cell_type": "markdown",
      "id": "9f53a397",
      "metadata": {
        "id": "9f53a397"
      },
      "source": [
        "## <span style=\"color:#ff5f27\">🧬 Train Retrieval Model </span>\n"
      ]
    },
    {
      "cell_type": "markdown",
      "source": [
        "## <span style='color:#ff5f27'> 📝 Install Dependencies </span>"
      ],
      "metadata": {
        "id": "DwUkluY8rdBg"
      },
      "id": "DwUkluY8rdBg"
    },
    {
      "cell_type": "code",
      "source": [
        "!pip install -qq -U hopsworks[python]\n",
        "!pip install -qq tensorflow-recommenders"
      ],
      "metadata": {
        "id": "WuAJekdirX38"
      },
      "id": "WuAJekdirX38",
      "execution_count": 2,
      "outputs": []
    },
    {
      "cell_type": "markdown",
      "id": "9faa182c",
      "metadata": {
        "id": "9faa182c"
      },
      "source": [
        "## <span style=\"color:#ff5f27\">📝 Imports </span>"
      ]
    },
    {
      "cell_type": "code",
      "execution_count": 3,
      "id": "91d80acd",
      "metadata": {
        "colab": {
          "base_uri": "https://localhost:8080/"
        },
        "id": "91d80acd",
        "outputId": "65ab9ae8-2b0c-4e14-810e-62ca0b95eb1e"
      },
      "outputs": [
        {
          "output_type": "stream",
          "name": "stdout",
          "text": [
            "tensorflow version: 2.17.1\n",
            "tensorflow_recommenders version: v0.7.3\n"
          ]
        }
      ],
      "source": [
        "import tensorflow as tf\n",
        "from tensorflow.keras.layers import StringLookup, Normalization\n",
        "import tensorflow_recommenders as tfrs\n",
        "import pandas as pd\n",
        "import numpy as np\n",
        "import warnings\n",
        "warnings.filterwarnings('ignore')\n",
        "print('tensorflow version:', tf.__version__)\n",
        "print('tensorflow_recommenders version:', tfrs.__version__)"
      ]
    },
    {
      "cell_type": "markdown",
      "id": "a09283b4",
      "metadata": {
        "id": "a09283b4"
      },
      "source": [
        "## <span style=\"color:#ff5f27\">🔮 Connect to Hopsworks Feature Store </span>"
      ]
    },
    {
      "cell_type": "code",
      "execution_count": 4,
      "id": "03b4ad6b",
      "metadata": {
        "colab": {
          "base_uri": "https://localhost:8080/"
        },
        "id": "03b4ad6b",
        "outputId": "0d7b14da-a01d-4aec-cfaa-dd3419954d96"
      },
      "outputs": [
        {
          "output_type": "stream",
          "name": "stdout",
          "text": [
            "Copy your Api Key (first register/login): https://c.app.hopsworks.ai/account/api/generated\n",
            "\n",
            "Paste it here: ··········\n",
            "\n",
            "Logged in to project, explore it here https://c.app.hopsworks.ai:443/p/1196184\n"
          ]
        }
      ],
      "source": [
        "import hopsworks\n",
        "\n",
        "project = hopsworks.login()\n",
        "\n",
        "fs = project.get_feature_store()"
      ]
    },
    {
      "cell_type": "markdown",
      "id": "3261b352",
      "metadata": {
        "id": "3261b352"
      },
      "source": [
        "## <span style=\"color:#ff5f27\">🔪 Feature Selection </span>\n"
      ]
    },
    {
      "cell_type": "code",
      "execution_count": 5,
      "id": "c149d5c9",
      "metadata": {
        "id": "c149d5c9"
      },
      "outputs": [],
      "source": [
        "users_fg = fs.get_feature_group(\n",
        "    name=\"users\",\n",
        "    version=1,\n",
        ")\n",
        "\n",
        "videos_fg = fs.get_feature_group(\n",
        "    name=\"videos\",\n",
        "    version=1,\n",
        ")\n",
        "\n",
        "interactions_fg = fs.get_feature_group(\n",
        "    name=\"interactions\",\n",
        "    version=1,\n",
        ")"
      ]
    },
    {
      "cell_type": "markdown",
      "id": "dd2c14e9",
      "metadata": {
        "id": "dd2c14e9"
      },
      "source": [
        "---"
      ]
    },
    {
      "cell_type": "code",
      "execution_count": null,
      "id": "272dc061",
      "metadata": {
        "id": "272dc061",
        "outputId": "54ad4732-fdd4-4bba-b669-4096a5638368"
      },
      "outputs": [
        {
          "data": {
            "text/html": [
              "<div>\n",
              "<style scoped>\n",
              "    .dataframe tbody tr th:only-of-type {\n",
              "        vertical-align: middle;\n",
              "    }\n",
              "\n",
              "    .dataframe tbody tr th {\n",
              "        vertical-align: top;\n",
              "    }\n",
              "\n",
              "    .dataframe thead th {\n",
              "        text-align: right;\n",
              "    }\n",
              "</style>\n",
              "<table border=\"1\" class=\"dataframe\">\n",
              "  <thead>\n",
              "    <tr style=\"text-align: right;\">\n",
              "      <th></th>\n",
              "      <th>interaction_id</th>\n",
              "      <th>interaction_type</th>\n",
              "      <th>user_id</th>\n",
              "      <th>video_id</th>\n",
              "      <th>watch_time</th>\n",
              "    </tr>\n",
              "  </thead>\n",
              "  <tbody>\n",
              "    <tr>\n",
              "      <th>0</th>\n",
              "      <td>7133-34-1966</td>\n",
              "      <td>like</td>\n",
              "      <td>WA546S</td>\n",
              "      <td>3EL60S</td>\n",
              "      <td>206</td>\n",
              "    </tr>\n",
              "  </tbody>\n",
              "</table>\n",
              "</div>"
            ],
            "text/plain": [
              "  interaction_id interaction_type user_id video_id  watch_time\n",
              "0   7133-34-1966             like  WA546S   3EL60S         206"
            ]
          },
          "execution_count": 19,
          "metadata": {},
          "output_type": "execute_result"
        }
      ],
      "source": [
        "# generic = Generic(locale=Locale.EN)\n",
        "\n",
        "# obs = pd.DataFrame(\n",
        "#     [[generic.person.identifier(mask='####-##-####'), 'like', 'WA546S', '3EL60S', 206]],\n",
        "#     columns=['interaction_id', 'interaction_type', 'user_id', 'video_id', 'watch_time']\n",
        "# )\n",
        "# interactions_fg.insert(obs)"
      ]
    },
    {
      "cell_type": "markdown",
      "id": "94a22d99",
      "metadata": {
        "id": "94a22d99"
      },
      "source": [
        "---"
      ]
    },
    {
      "cell_type": "code",
      "execution_count": 6,
      "id": "9d72398e",
      "metadata": {
        "id": "9d72398e"
      },
      "outputs": [],
      "source": [
        "QUERY_FEATURES = [\"user_id\", \"gender\", \"age\", \"country\"]\n",
        "CANDIDATE_FEATURES = [\"video_id\", \"category\", \"views\", \"likes\", \"video_length\"]"
      ]
    },
    {
      "cell_type": "code",
      "execution_count": 7,
      "id": "f091291d",
      "metadata": {
        "colab": {
          "base_uri": "https://localhost:8080/",
          "height": 278
        },
        "id": "f091291d",
        "outputId": "7f4a6f47-8c0f-4697-ce93-8498d5364960"
      },
      "outputs": [
        {
          "output_type": "stream",
          "name": "stdout",
          "text": [
            "Finished: Reading data from Hopsworks, using Hopsworks Feature Query Service (11.96s) \n"
          ]
        },
        {
          "output_type": "execute_result",
          "data": {
            "text/plain": [
              "  interaction_id user_id  gender  age         country video_id    category  \\\n",
              "0   6282-72-3248  NZ031Q  Female   80         Germany   1AP74D       Dance   \n",
              "1   4312-89-8518  MJ488B   Other   51  Czech Republic   1NV27Z   Lifestyle   \n",
              "2   1008-94-1017  HU937W  Female   21      Micronesia   9WJ38H       Dance   \n",
              "3   5269-78-7890  BH602O    Male   86      Martinique   2TQ25J     Cooking   \n",
              "4   8122-80-1610  TG318L    Male   72     South Sudan   5OU34O  Technology   \n",
              "\n",
              "    views   likes  video_length  \n",
              "0    4036    3127           196  \n",
              "1   48563   11080           206  \n",
              "2   16026    9374           122  \n",
              "3   42902   15735            27  \n",
              "4  417517  364922            54  "
            ],
            "text/html": [
              "\n",
              "  <div id=\"df-73acc694-8899-445f-8275-6210718f917b\" class=\"colab-df-container\">\n",
              "    <div>\n",
              "<style scoped>\n",
              "    .dataframe tbody tr th:only-of-type {\n",
              "        vertical-align: middle;\n",
              "    }\n",
              "\n",
              "    .dataframe tbody tr th {\n",
              "        vertical-align: top;\n",
              "    }\n",
              "\n",
              "    .dataframe thead th {\n",
              "        text-align: right;\n",
              "    }\n",
              "</style>\n",
              "<table border=\"1\" class=\"dataframe\">\n",
              "  <thead>\n",
              "    <tr style=\"text-align: right;\">\n",
              "      <th></th>\n",
              "      <th>interaction_id</th>\n",
              "      <th>user_id</th>\n",
              "      <th>gender</th>\n",
              "      <th>age</th>\n",
              "      <th>country</th>\n",
              "      <th>video_id</th>\n",
              "      <th>category</th>\n",
              "      <th>views</th>\n",
              "      <th>likes</th>\n",
              "      <th>video_length</th>\n",
              "    </tr>\n",
              "  </thead>\n",
              "  <tbody>\n",
              "    <tr>\n",
              "      <th>0</th>\n",
              "      <td>6282-72-3248</td>\n",
              "      <td>NZ031Q</td>\n",
              "      <td>Female</td>\n",
              "      <td>80</td>\n",
              "      <td>Germany</td>\n",
              "      <td>1AP74D</td>\n",
              "      <td>Dance</td>\n",
              "      <td>4036</td>\n",
              "      <td>3127</td>\n",
              "      <td>196</td>\n",
              "    </tr>\n",
              "    <tr>\n",
              "      <th>1</th>\n",
              "      <td>4312-89-8518</td>\n",
              "      <td>MJ488B</td>\n",
              "      <td>Other</td>\n",
              "      <td>51</td>\n",
              "      <td>Czech Republic</td>\n",
              "      <td>1NV27Z</td>\n",
              "      <td>Lifestyle</td>\n",
              "      <td>48563</td>\n",
              "      <td>11080</td>\n",
              "      <td>206</td>\n",
              "    </tr>\n",
              "    <tr>\n",
              "      <th>2</th>\n",
              "      <td>1008-94-1017</td>\n",
              "      <td>HU937W</td>\n",
              "      <td>Female</td>\n",
              "      <td>21</td>\n",
              "      <td>Micronesia</td>\n",
              "      <td>9WJ38H</td>\n",
              "      <td>Dance</td>\n",
              "      <td>16026</td>\n",
              "      <td>9374</td>\n",
              "      <td>122</td>\n",
              "    </tr>\n",
              "    <tr>\n",
              "      <th>3</th>\n",
              "      <td>5269-78-7890</td>\n",
              "      <td>BH602O</td>\n",
              "      <td>Male</td>\n",
              "      <td>86</td>\n",
              "      <td>Martinique</td>\n",
              "      <td>2TQ25J</td>\n",
              "      <td>Cooking</td>\n",
              "      <td>42902</td>\n",
              "      <td>15735</td>\n",
              "      <td>27</td>\n",
              "    </tr>\n",
              "    <tr>\n",
              "      <th>4</th>\n",
              "      <td>8122-80-1610</td>\n",
              "      <td>TG318L</td>\n",
              "      <td>Male</td>\n",
              "      <td>72</td>\n",
              "      <td>South Sudan</td>\n",
              "      <td>5OU34O</td>\n",
              "      <td>Technology</td>\n",
              "      <td>417517</td>\n",
              "      <td>364922</td>\n",
              "      <td>54</td>\n",
              "    </tr>\n",
              "  </tbody>\n",
              "</table>\n",
              "</div>\n",
              "    <div class=\"colab-df-buttons\">\n",
              "\n",
              "  <div class=\"colab-df-container\">\n",
              "    <button class=\"colab-df-convert\" onclick=\"convertToInteractive('df-73acc694-8899-445f-8275-6210718f917b')\"\n",
              "            title=\"Convert this dataframe to an interactive table.\"\n",
              "            style=\"display:none;\">\n",
              "\n",
              "  <svg xmlns=\"http://www.w3.org/2000/svg\" height=\"24px\" viewBox=\"0 -960 960 960\">\n",
              "    <path d=\"M120-120v-720h720v720H120Zm60-500h600v-160H180v160Zm220 220h160v-160H400v160Zm0 220h160v-160H400v160ZM180-400h160v-160H180v160Zm440 0h160v-160H620v160ZM180-180h160v-160H180v160Zm440 0h160v-160H620v160Z\"/>\n",
              "  </svg>\n",
              "    </button>\n",
              "\n",
              "  <style>\n",
              "    .colab-df-container {\n",
              "      display:flex;\n",
              "      gap: 12px;\n",
              "    }\n",
              "\n",
              "    .colab-df-convert {\n",
              "      background-color: #E8F0FE;\n",
              "      border: none;\n",
              "      border-radius: 50%;\n",
              "      cursor: pointer;\n",
              "      display: none;\n",
              "      fill: #1967D2;\n",
              "      height: 32px;\n",
              "      padding: 0 0 0 0;\n",
              "      width: 32px;\n",
              "    }\n",
              "\n",
              "    .colab-df-convert:hover {\n",
              "      background-color: #E2EBFA;\n",
              "      box-shadow: 0px 1px 2px rgba(60, 64, 67, 0.3), 0px 1px 3px 1px rgba(60, 64, 67, 0.15);\n",
              "      fill: #174EA6;\n",
              "    }\n",
              "\n",
              "    .colab-df-buttons div {\n",
              "      margin-bottom: 4px;\n",
              "    }\n",
              "\n",
              "    [theme=dark] .colab-df-convert {\n",
              "      background-color: #3B4455;\n",
              "      fill: #D2E3FC;\n",
              "    }\n",
              "\n",
              "    [theme=dark] .colab-df-convert:hover {\n",
              "      background-color: #434B5C;\n",
              "      box-shadow: 0px 1px 3px 1px rgba(0, 0, 0, 0.15);\n",
              "      filter: drop-shadow(0px 1px 2px rgba(0, 0, 0, 0.3));\n",
              "      fill: #FFFFFF;\n",
              "    }\n",
              "  </style>\n",
              "\n",
              "    <script>\n",
              "      const buttonEl =\n",
              "        document.querySelector('#df-73acc694-8899-445f-8275-6210718f917b button.colab-df-convert');\n",
              "      buttonEl.style.display =\n",
              "        google.colab.kernel.accessAllowed ? 'block' : 'none';\n",
              "\n",
              "      async function convertToInteractive(key) {\n",
              "        const element = document.querySelector('#df-73acc694-8899-445f-8275-6210718f917b');\n",
              "        const dataTable =\n",
              "          await google.colab.kernel.invokeFunction('convertToInteractive',\n",
              "                                                    [key], {});\n",
              "        if (!dataTable) return;\n",
              "\n",
              "        const docLinkHtml = 'Like what you see? Visit the ' +\n",
              "          '<a target=\"_blank\" href=https://colab.research.google.com/notebooks/data_table.ipynb>data table notebook</a>'\n",
              "          + ' to learn more about interactive tables.';\n",
              "        element.innerHTML = '';\n",
              "        dataTable['output_type'] = 'display_data';\n",
              "        await google.colab.output.renderOutput(dataTable, element);\n",
              "        const docLink = document.createElement('div');\n",
              "        docLink.innerHTML = docLinkHtml;\n",
              "        element.appendChild(docLink);\n",
              "      }\n",
              "    </script>\n",
              "  </div>\n",
              "\n",
              "\n",
              "<div id=\"df-826da509-58f4-4d4f-9180-286c84afe9a6\">\n",
              "  <button class=\"colab-df-quickchart\" onclick=\"quickchart('df-826da509-58f4-4d4f-9180-286c84afe9a6')\"\n",
              "            title=\"Suggest charts\"\n",
              "            style=\"display:none;\">\n",
              "\n",
              "<svg xmlns=\"http://www.w3.org/2000/svg\" height=\"24px\"viewBox=\"0 0 24 24\"\n",
              "     width=\"24px\">\n",
              "    <g>\n",
              "        <path d=\"M19 3H5c-1.1 0-2 .9-2 2v14c0 1.1.9 2 2 2h14c1.1 0 2-.9 2-2V5c0-1.1-.9-2-2-2zM9 17H7v-7h2v7zm4 0h-2V7h2v10zm4 0h-2v-4h2v4z\"/>\n",
              "    </g>\n",
              "</svg>\n",
              "  </button>\n",
              "\n",
              "<style>\n",
              "  .colab-df-quickchart {\n",
              "      --bg-color: #E8F0FE;\n",
              "      --fill-color: #1967D2;\n",
              "      --hover-bg-color: #E2EBFA;\n",
              "      --hover-fill-color: #174EA6;\n",
              "      --disabled-fill-color: #AAA;\n",
              "      --disabled-bg-color: #DDD;\n",
              "  }\n",
              "\n",
              "  [theme=dark] .colab-df-quickchart {\n",
              "      --bg-color: #3B4455;\n",
              "      --fill-color: #D2E3FC;\n",
              "      --hover-bg-color: #434B5C;\n",
              "      --hover-fill-color: #FFFFFF;\n",
              "      --disabled-bg-color: #3B4455;\n",
              "      --disabled-fill-color: #666;\n",
              "  }\n",
              "\n",
              "  .colab-df-quickchart {\n",
              "    background-color: var(--bg-color);\n",
              "    border: none;\n",
              "    border-radius: 50%;\n",
              "    cursor: pointer;\n",
              "    display: none;\n",
              "    fill: var(--fill-color);\n",
              "    height: 32px;\n",
              "    padding: 0;\n",
              "    width: 32px;\n",
              "  }\n",
              "\n",
              "  .colab-df-quickchart:hover {\n",
              "    background-color: var(--hover-bg-color);\n",
              "    box-shadow: 0 1px 2px rgba(60, 64, 67, 0.3), 0 1px 3px 1px rgba(60, 64, 67, 0.15);\n",
              "    fill: var(--button-hover-fill-color);\n",
              "  }\n",
              "\n",
              "  .colab-df-quickchart-complete:disabled,\n",
              "  .colab-df-quickchart-complete:disabled:hover {\n",
              "    background-color: var(--disabled-bg-color);\n",
              "    fill: var(--disabled-fill-color);\n",
              "    box-shadow: none;\n",
              "  }\n",
              "\n",
              "  .colab-df-spinner {\n",
              "    border: 2px solid var(--fill-color);\n",
              "    border-color: transparent;\n",
              "    border-bottom-color: var(--fill-color);\n",
              "    animation:\n",
              "      spin 1s steps(1) infinite;\n",
              "  }\n",
              "\n",
              "  @keyframes spin {\n",
              "    0% {\n",
              "      border-color: transparent;\n",
              "      border-bottom-color: var(--fill-color);\n",
              "      border-left-color: var(--fill-color);\n",
              "    }\n",
              "    20% {\n",
              "      border-color: transparent;\n",
              "      border-left-color: var(--fill-color);\n",
              "      border-top-color: var(--fill-color);\n",
              "    }\n",
              "    30% {\n",
              "      border-color: transparent;\n",
              "      border-left-color: var(--fill-color);\n",
              "      border-top-color: var(--fill-color);\n",
              "      border-right-color: var(--fill-color);\n",
              "    }\n",
              "    40% {\n",
              "      border-color: transparent;\n",
              "      border-right-color: var(--fill-color);\n",
              "      border-top-color: var(--fill-color);\n",
              "    }\n",
              "    60% {\n",
              "      border-color: transparent;\n",
              "      border-right-color: var(--fill-color);\n",
              "    }\n",
              "    80% {\n",
              "      border-color: transparent;\n",
              "      border-right-color: var(--fill-color);\n",
              "      border-bottom-color: var(--fill-color);\n",
              "    }\n",
              "    90% {\n",
              "      border-color: transparent;\n",
              "      border-bottom-color: var(--fill-color);\n",
              "    }\n",
              "  }\n",
              "</style>\n",
              "\n",
              "  <script>\n",
              "    async function quickchart(key) {\n",
              "      const quickchartButtonEl =\n",
              "        document.querySelector('#' + key + ' button');\n",
              "      quickchartButtonEl.disabled = true;  // To prevent multiple clicks.\n",
              "      quickchartButtonEl.classList.add('colab-df-spinner');\n",
              "      try {\n",
              "        const charts = await google.colab.kernel.invokeFunction(\n",
              "            'suggestCharts', [key], {});\n",
              "      } catch (error) {\n",
              "        console.error('Error during call to suggestCharts:', error);\n",
              "      }\n",
              "      quickchartButtonEl.classList.remove('colab-df-spinner');\n",
              "      quickchartButtonEl.classList.add('colab-df-quickchart-complete');\n",
              "    }\n",
              "    (() => {\n",
              "      let quickchartButtonEl =\n",
              "        document.querySelector('#df-826da509-58f4-4d4f-9180-286c84afe9a6 button');\n",
              "      quickchartButtonEl.style.display =\n",
              "        google.colab.kernel.accessAllowed ? 'block' : 'none';\n",
              "    })();\n",
              "  </script>\n",
              "</div>\n",
              "\n",
              "    </div>\n",
              "  </div>\n"
            ],
            "application/vnd.google.colaboratory.intrinsic+json": {
              "type": "dataframe",
              "summary": "{\n  \"name\": \"selected_features\",\n  \"rows\": 5,\n  \"fields\": [\n    {\n      \"column\": \"interaction_id\",\n      \"properties\": {\n        \"dtype\": \"string\",\n        \"num_unique_values\": 5,\n        \"samples\": [\n          \"4312-89-8518\",\n          \"8122-80-1610\",\n          \"1008-94-1017\"\n        ],\n        \"semantic_type\": \"\",\n        \"description\": \"\"\n      }\n    },\n    {\n      \"column\": \"user_id\",\n      \"properties\": {\n        \"dtype\": \"string\",\n        \"num_unique_values\": 5,\n        \"samples\": [\n          \"MJ488B\",\n          \"TG318L\",\n          \"HU937W\"\n        ],\n        \"semantic_type\": \"\",\n        \"description\": \"\"\n      }\n    },\n    {\n      \"column\": \"gender\",\n      \"properties\": {\n        \"dtype\": \"string\",\n        \"num_unique_values\": 3,\n        \"samples\": [\n          \"Female\",\n          \"Other\",\n          \"Male\"\n        ],\n        \"semantic_type\": \"\",\n        \"description\": \"\"\n      }\n    },\n    {\n      \"column\": \"age\",\n      \"properties\": {\n        \"dtype\": \"number\",\n        \"std\": 26,\n        \"min\": 21,\n        \"max\": 86,\n        \"num_unique_values\": 5,\n        \"samples\": [\n          51,\n          72,\n          21\n        ],\n        \"semantic_type\": \"\",\n        \"description\": \"\"\n      }\n    },\n    {\n      \"column\": \"country\",\n      \"properties\": {\n        \"dtype\": \"string\",\n        \"num_unique_values\": 5,\n        \"samples\": [\n          \"Czech Republic\",\n          \"South Sudan\",\n          \"Micronesia\"\n        ],\n        \"semantic_type\": \"\",\n        \"description\": \"\"\n      }\n    },\n    {\n      \"column\": \"video_id\",\n      \"properties\": {\n        \"dtype\": \"string\",\n        \"num_unique_values\": 5,\n        \"samples\": [\n          \"1NV27Z\",\n          \"5OU34O\",\n          \"9WJ38H\"\n        ],\n        \"semantic_type\": \"\",\n        \"description\": \"\"\n      }\n    },\n    {\n      \"column\": \"category\",\n      \"properties\": {\n        \"dtype\": \"string\",\n        \"num_unique_values\": 4,\n        \"samples\": [\n          \"Lifestyle\",\n          \"Technology\",\n          \"Dance\"\n        ],\n        \"semantic_type\": \"\",\n        \"description\": \"\"\n      }\n    },\n    {\n      \"column\": \"views\",\n      \"properties\": {\n        \"dtype\": \"number\",\n        \"std\": 175224,\n        \"min\": 4036,\n        \"max\": 417517,\n        \"num_unique_values\": 5,\n        \"samples\": [\n          48563,\n          417517,\n          16026\n        ],\n        \"semantic_type\": \"\",\n        \"description\": \"\"\n      }\n    },\n    {\n      \"column\": \"likes\",\n      \"properties\": {\n        \"dtype\": \"number\",\n        \"std\": 158866,\n        \"min\": 3127,\n        \"max\": 364922,\n        \"num_unique_values\": 5,\n        \"samples\": [\n          11080,\n          364922,\n          9374\n        ],\n        \"semantic_type\": \"\",\n        \"description\": \"\"\n      }\n    },\n    {\n      \"column\": \"video_length\",\n      \"properties\": {\n        \"dtype\": \"number\",\n        \"std\": 80,\n        \"min\": 27,\n        \"max\": 206,\n        \"num_unique_values\": 5,\n        \"samples\": [\n          206,\n          54,\n          122\n        ],\n        \"semantic_type\": \"\",\n        \"description\": \"\"\n      }\n    }\n  ]\n}"
            }
          },
          "metadata": {},
          "execution_count": 7
        }
      ],
      "source": [
        "# Select features for training data\n",
        "selected_features = interactions_fg.select([\"interaction_id\"])\\\n",
        "    .join(users_fg.select(QUERY_FEATURES), on=\"user_id\")\\\n",
        "    .join(videos_fg.select(CANDIDATE_FEATURES), on=\"video_id\")\n",
        "\n",
        "# Uncomment this if you would like to view your selected features\n",
        "selected_features.show(5)"
      ]
    },
    {
      "cell_type": "markdown",
      "id": "87707f44",
      "metadata": {
        "id": "87707f44"
      },
      "source": [
        "## <span style=\"color:#ff5f27\">⚙️ Feature View Creation </span>\n"
      ]
    },
    {
      "cell_type": "code",
      "execution_count": 8,
      "id": "af97a264",
      "metadata": {
        "colab": {
          "base_uri": "https://localhost:8080/"
        },
        "id": "af97a264",
        "outputId": "a4b9c82d-ee7c-4825-ceed-e4c39b62620f"
      },
      "outputs": [
        {
          "output_type": "stream",
          "name": "stdout",
          "text": [
            "Feature view created successfully, explore it at \n",
            "https://c.app.hopsworks.ai:443/p/1196184/fs/1183821/fv/retrieval/version/1\n"
          ]
        }
      ],
      "source": [
        "feature_view = fs.get_or_create_feature_view(\n",
        "    name='retrieval',\n",
        "    version=1,\n",
        "    query=selected_features,\n",
        ")"
      ]
    },
    {
      "cell_type": "markdown",
      "id": "bad1dc1f",
      "metadata": {
        "id": "bad1dc1f"
      },
      "source": [
        "## <span style=\"color:#ff5f27\">🏋️ Training Dataset </span>\n"
      ]
    },
    {
      "cell_type": "code",
      "execution_count": 9,
      "id": "437f3034",
      "metadata": {
        "colab": {
          "base_uri": "https://localhost:8080/",
          "height": 250
        },
        "id": "437f3034",
        "outputId": "8efbccdd-98ab-4d09-f968-86818a170530"
      },
      "outputs": [
        {
          "output_type": "stream",
          "name": "stdout",
          "text": [
            "Finished: Reading data from Hopsworks, using Hopsworks Feature Query Service (12.11s) \n"
          ]
        },
        {
          "output_type": "stream",
          "name": "stderr",
          "text": [
            "VersionWarning: Incremented version to `1`.\n"
          ]
        },
        {
          "output_type": "execute_result",
          "data": {
            "text/plain": [
              "  interaction_id user_id  gender  age              country video_id  \\\n",
              "0   7927-43-0436  VM332Y   Other   13              Somalia   2KD84E   \n",
              "2   5052-59-2238  FT125N  Female   62  Hong Kong SAR China   7LG48D   \n",
              "4   7848-57-6243  RZ535X   Other   51                 Fiji   3KA05Q   \n",
              "\n",
              "    category   views   likes  video_length  \n",
              "0  Lifestyle  362035  158609           167  \n",
              "2  Lifestyle    3928    3315            11  \n",
              "4      Dance  208619   83038           200  "
            ],
            "text/html": [
              "\n",
              "  <div id=\"df-9581ba9f-bea6-4272-adc8-0d8e256fc11e\" class=\"colab-df-container\">\n",
              "    <div>\n",
              "<style scoped>\n",
              "    .dataframe tbody tr th:only-of-type {\n",
              "        vertical-align: middle;\n",
              "    }\n",
              "\n",
              "    .dataframe tbody tr th {\n",
              "        vertical-align: top;\n",
              "    }\n",
              "\n",
              "    .dataframe thead th {\n",
              "        text-align: right;\n",
              "    }\n",
              "</style>\n",
              "<table border=\"1\" class=\"dataframe\">\n",
              "  <thead>\n",
              "    <tr style=\"text-align: right;\">\n",
              "      <th></th>\n",
              "      <th>interaction_id</th>\n",
              "      <th>user_id</th>\n",
              "      <th>gender</th>\n",
              "      <th>age</th>\n",
              "      <th>country</th>\n",
              "      <th>video_id</th>\n",
              "      <th>category</th>\n",
              "      <th>views</th>\n",
              "      <th>likes</th>\n",
              "      <th>video_length</th>\n",
              "    </tr>\n",
              "  </thead>\n",
              "  <tbody>\n",
              "    <tr>\n",
              "      <th>0</th>\n",
              "      <td>7927-43-0436</td>\n",
              "      <td>VM332Y</td>\n",
              "      <td>Other</td>\n",
              "      <td>13</td>\n",
              "      <td>Somalia</td>\n",
              "      <td>2KD84E</td>\n",
              "      <td>Lifestyle</td>\n",
              "      <td>362035</td>\n",
              "      <td>158609</td>\n",
              "      <td>167</td>\n",
              "    </tr>\n",
              "    <tr>\n",
              "      <th>2</th>\n",
              "      <td>5052-59-2238</td>\n",
              "      <td>FT125N</td>\n",
              "      <td>Female</td>\n",
              "      <td>62</td>\n",
              "      <td>Hong Kong SAR China</td>\n",
              "      <td>7LG48D</td>\n",
              "      <td>Lifestyle</td>\n",
              "      <td>3928</td>\n",
              "      <td>3315</td>\n",
              "      <td>11</td>\n",
              "    </tr>\n",
              "    <tr>\n",
              "      <th>4</th>\n",
              "      <td>7848-57-6243</td>\n",
              "      <td>RZ535X</td>\n",
              "      <td>Other</td>\n",
              "      <td>51</td>\n",
              "      <td>Fiji</td>\n",
              "      <td>3KA05Q</td>\n",
              "      <td>Dance</td>\n",
              "      <td>208619</td>\n",
              "      <td>83038</td>\n",
              "      <td>200</td>\n",
              "    </tr>\n",
              "  </tbody>\n",
              "</table>\n",
              "</div>\n",
              "    <div class=\"colab-df-buttons\">\n",
              "\n",
              "  <div class=\"colab-df-container\">\n",
              "    <button class=\"colab-df-convert\" onclick=\"convertToInteractive('df-9581ba9f-bea6-4272-adc8-0d8e256fc11e')\"\n",
              "            title=\"Convert this dataframe to an interactive table.\"\n",
              "            style=\"display:none;\">\n",
              "\n",
              "  <svg xmlns=\"http://www.w3.org/2000/svg\" height=\"24px\" viewBox=\"0 -960 960 960\">\n",
              "    <path d=\"M120-120v-720h720v720H120Zm60-500h600v-160H180v160Zm220 220h160v-160H400v160Zm0 220h160v-160H400v160ZM180-400h160v-160H180v160Zm440 0h160v-160H620v160ZM180-180h160v-160H180v160Zm440 0h160v-160H620v160Z\"/>\n",
              "  </svg>\n",
              "    </button>\n",
              "\n",
              "  <style>\n",
              "    .colab-df-container {\n",
              "      display:flex;\n",
              "      gap: 12px;\n",
              "    }\n",
              "\n",
              "    .colab-df-convert {\n",
              "      background-color: #E8F0FE;\n",
              "      border: none;\n",
              "      border-radius: 50%;\n",
              "      cursor: pointer;\n",
              "      display: none;\n",
              "      fill: #1967D2;\n",
              "      height: 32px;\n",
              "      padding: 0 0 0 0;\n",
              "      width: 32px;\n",
              "    }\n",
              "\n",
              "    .colab-df-convert:hover {\n",
              "      background-color: #E2EBFA;\n",
              "      box-shadow: 0px 1px 2px rgba(60, 64, 67, 0.3), 0px 1px 3px 1px rgba(60, 64, 67, 0.15);\n",
              "      fill: #174EA6;\n",
              "    }\n",
              "\n",
              "    .colab-df-buttons div {\n",
              "      margin-bottom: 4px;\n",
              "    }\n",
              "\n",
              "    [theme=dark] .colab-df-convert {\n",
              "      background-color: #3B4455;\n",
              "      fill: #D2E3FC;\n",
              "    }\n",
              "\n",
              "    [theme=dark] .colab-df-convert:hover {\n",
              "      background-color: #434B5C;\n",
              "      box-shadow: 0px 1px 3px 1px rgba(0, 0, 0, 0.15);\n",
              "      filter: drop-shadow(0px 1px 2px rgba(0, 0, 0, 0.3));\n",
              "      fill: #FFFFFF;\n",
              "    }\n",
              "  </style>\n",
              "\n",
              "    <script>\n",
              "      const buttonEl =\n",
              "        document.querySelector('#df-9581ba9f-bea6-4272-adc8-0d8e256fc11e button.colab-df-convert');\n",
              "      buttonEl.style.display =\n",
              "        google.colab.kernel.accessAllowed ? 'block' : 'none';\n",
              "\n",
              "      async function convertToInteractive(key) {\n",
              "        const element = document.querySelector('#df-9581ba9f-bea6-4272-adc8-0d8e256fc11e');\n",
              "        const dataTable =\n",
              "          await google.colab.kernel.invokeFunction('convertToInteractive',\n",
              "                                                    [key], {});\n",
              "        if (!dataTable) return;\n",
              "\n",
              "        const docLinkHtml = 'Like what you see? Visit the ' +\n",
              "          '<a target=\"_blank\" href=https://colab.research.google.com/notebooks/data_table.ipynb>data table notebook</a>'\n",
              "          + ' to learn more about interactive tables.';\n",
              "        element.innerHTML = '';\n",
              "        dataTable['output_type'] = 'display_data';\n",
              "        await google.colab.output.renderOutput(dataTable, element);\n",
              "        const docLink = document.createElement('div');\n",
              "        docLink.innerHTML = docLinkHtml;\n",
              "        element.appendChild(docLink);\n",
              "      }\n",
              "    </script>\n",
              "  </div>\n",
              "\n",
              "\n",
              "<div id=\"df-717fb323-2ece-4cbe-a634-38da3f2397b1\">\n",
              "  <button class=\"colab-df-quickchart\" onclick=\"quickchart('df-717fb323-2ece-4cbe-a634-38da3f2397b1')\"\n",
              "            title=\"Suggest charts\"\n",
              "            style=\"display:none;\">\n",
              "\n",
              "<svg xmlns=\"http://www.w3.org/2000/svg\" height=\"24px\"viewBox=\"0 0 24 24\"\n",
              "     width=\"24px\">\n",
              "    <g>\n",
              "        <path d=\"M19 3H5c-1.1 0-2 .9-2 2v14c0 1.1.9 2 2 2h14c1.1 0 2-.9 2-2V5c0-1.1-.9-2-2-2zM9 17H7v-7h2v7zm4 0h-2V7h2v10zm4 0h-2v-4h2v4z\"/>\n",
              "    </g>\n",
              "</svg>\n",
              "  </button>\n",
              "\n",
              "<style>\n",
              "  .colab-df-quickchart {\n",
              "      --bg-color: #E8F0FE;\n",
              "      --fill-color: #1967D2;\n",
              "      --hover-bg-color: #E2EBFA;\n",
              "      --hover-fill-color: #174EA6;\n",
              "      --disabled-fill-color: #AAA;\n",
              "      --disabled-bg-color: #DDD;\n",
              "  }\n",
              "\n",
              "  [theme=dark] .colab-df-quickchart {\n",
              "      --bg-color: #3B4455;\n",
              "      --fill-color: #D2E3FC;\n",
              "      --hover-bg-color: #434B5C;\n",
              "      --hover-fill-color: #FFFFFF;\n",
              "      --disabled-bg-color: #3B4455;\n",
              "      --disabled-fill-color: #666;\n",
              "  }\n",
              "\n",
              "  .colab-df-quickchart {\n",
              "    background-color: var(--bg-color);\n",
              "    border: none;\n",
              "    border-radius: 50%;\n",
              "    cursor: pointer;\n",
              "    display: none;\n",
              "    fill: var(--fill-color);\n",
              "    height: 32px;\n",
              "    padding: 0;\n",
              "    width: 32px;\n",
              "  }\n",
              "\n",
              "  .colab-df-quickchart:hover {\n",
              "    background-color: var(--hover-bg-color);\n",
              "    box-shadow: 0 1px 2px rgba(60, 64, 67, 0.3), 0 1px 3px 1px rgba(60, 64, 67, 0.15);\n",
              "    fill: var(--button-hover-fill-color);\n",
              "  }\n",
              "\n",
              "  .colab-df-quickchart-complete:disabled,\n",
              "  .colab-df-quickchart-complete:disabled:hover {\n",
              "    background-color: var(--disabled-bg-color);\n",
              "    fill: var(--disabled-fill-color);\n",
              "    box-shadow: none;\n",
              "  }\n",
              "\n",
              "  .colab-df-spinner {\n",
              "    border: 2px solid var(--fill-color);\n",
              "    border-color: transparent;\n",
              "    border-bottom-color: var(--fill-color);\n",
              "    animation:\n",
              "      spin 1s steps(1) infinite;\n",
              "  }\n",
              "\n",
              "  @keyframes spin {\n",
              "    0% {\n",
              "      border-color: transparent;\n",
              "      border-bottom-color: var(--fill-color);\n",
              "      border-left-color: var(--fill-color);\n",
              "    }\n",
              "    20% {\n",
              "      border-color: transparent;\n",
              "      border-left-color: var(--fill-color);\n",
              "      border-top-color: var(--fill-color);\n",
              "    }\n",
              "    30% {\n",
              "      border-color: transparent;\n",
              "      border-left-color: var(--fill-color);\n",
              "      border-top-color: var(--fill-color);\n",
              "      border-right-color: var(--fill-color);\n",
              "    }\n",
              "    40% {\n",
              "      border-color: transparent;\n",
              "      border-right-color: var(--fill-color);\n",
              "      border-top-color: var(--fill-color);\n",
              "    }\n",
              "    60% {\n",
              "      border-color: transparent;\n",
              "      border-right-color: var(--fill-color);\n",
              "    }\n",
              "    80% {\n",
              "      border-color: transparent;\n",
              "      border-right-color: var(--fill-color);\n",
              "      border-bottom-color: var(--fill-color);\n",
              "    }\n",
              "    90% {\n",
              "      border-color: transparent;\n",
              "      border-bottom-color: var(--fill-color);\n",
              "    }\n",
              "  }\n",
              "</style>\n",
              "\n",
              "  <script>\n",
              "    async function quickchart(key) {\n",
              "      const quickchartButtonEl =\n",
              "        document.querySelector('#' + key + ' button');\n",
              "      quickchartButtonEl.disabled = true;  // To prevent multiple clicks.\n",
              "      quickchartButtonEl.classList.add('colab-df-spinner');\n",
              "      try {\n",
              "        const charts = await google.colab.kernel.invokeFunction(\n",
              "            'suggestCharts', [key], {});\n",
              "      } catch (error) {\n",
              "        console.error('Error during call to suggestCharts:', error);\n",
              "      }\n",
              "      quickchartButtonEl.classList.remove('colab-df-spinner');\n",
              "      quickchartButtonEl.classList.add('colab-df-quickchart-complete');\n",
              "    }\n",
              "    (() => {\n",
              "      let quickchartButtonEl =\n",
              "        document.querySelector('#df-717fb323-2ece-4cbe-a634-38da3f2397b1 button');\n",
              "      quickchartButtonEl.style.display =\n",
              "        google.colab.kernel.accessAllowed ? 'block' : 'none';\n",
              "    })();\n",
              "  </script>\n",
              "</div>\n",
              "\n",
              "    </div>\n",
              "  </div>\n"
            ],
            "application/vnd.google.colaboratory.intrinsic+json": {
              "type": "dataframe",
              "variable_name": "train_df"
            }
          },
          "metadata": {},
          "execution_count": 9
        }
      ],
      "source": [
        "train_df, val_df, test_df, _, _, _ = feature_view.train_validation_test_split(\n",
        "    validation_size=0.1,\n",
        "    test_size=0.1,\n",
        "    description='Retrieval dataset splits',\n",
        ")\n",
        "train_df.head(3)"
      ]
    },
    {
      "cell_type": "markdown",
      "id": "66935588",
      "metadata": {
        "id": "66935588"
      },
      "source": [
        "You will train your retrieval model with a subset of features.\n",
        "\n",
        "For the query embedding you will use:\n",
        "- `user_id`: ID of a user.\n",
        "- `gender`: Gender of a user.\n",
        "- `age`: age of a user.\n",
        "- `country`: country if a user.\n",
        "\n",
        "For the candidate embedding you will use:\n",
        "- `video_id`: ID of a video.\n",
        "- `category`: Video Category.\n",
        "- `views`: Number of video views.\n",
        "- `likes`: Number of video likes.\n",
        "- `video_length`: Length of video.\n"
      ]
    },
    {
      "cell_type": "code",
      "execution_count": 10,
      "id": "6f95d63e",
      "metadata": {
        "id": "6f95d63e"
      },
      "outputs": [],
      "source": [
        "def df_to_ds(df):\n",
        "    return tf.data.Dataset.from_tensor_slices({col: df[col] for col in df})\n",
        "\n",
        "BATCH_SIZE = 2048\n",
        "train_ds = df_to_ds(train_df).batch(BATCH_SIZE).cache().shuffle(BATCH_SIZE*10)\n",
        "val_ds = df_to_ds(val_df).batch(BATCH_SIZE).cache()"
      ]
    },
    {
      "cell_type": "code",
      "execution_count": 11,
      "id": "c0bb3dd6",
      "metadata": {
        "colab": {
          "base_uri": "https://localhost:8080/"
        },
        "id": "c0bb3dd6",
        "outputId": "61edc95b-da10-4f7d-edf3-de12848c6dd1"
      },
      "outputs": [
        {
          "output_type": "stream",
          "name": "stdout",
          "text": [
            "⛳️ Number of users: 49932\n",
            "⛳️ Number of items: 49933\n"
          ]
        }
      ],
      "source": [
        "# Query Features\n",
        "user_id_list = train_df[\"user_id\"].unique().tolist()\n",
        "countries_list = train_df[\"country\"].unique().tolist()\n",
        "gender_list = train_df[\"gender\"].unique().tolist()\n",
        "\n",
        "# Item Features\n",
        "video_id_list = train_df[\"video_id\"].unique().tolist()\n",
        "category_list = train_df[\"category\"].unique().tolist()\n",
        "\n",
        "print(f\"⛳️ Number of users: {len(user_id_list)}\")\n",
        "print(f\"⛳️ Number of items: {len(video_id_list)}\")"
      ]
    },
    {
      "cell_type": "markdown",
      "id": "434c4058",
      "metadata": {
        "id": "434c4058"
      },
      "source": [
        "## <span style=\"color:#ff5f27\">🏰 Two Tower Model </span>\n"
      ]
    },
    {
      "cell_type": "code",
      "execution_count": 12,
      "id": "8db71a34",
      "metadata": {
        "id": "8db71a34"
      },
      "outputs": [],
      "source": [
        "EMB_DIM = 32"
      ]
    },
    {
      "cell_type": "code",
      "execution_count": 14,
      "id": "63b6462f",
      "metadata": {
        "colab": {
          "base_uri": "https://localhost:8080/",
          "height": 463
        },
        "id": "63b6462f",
        "outputId": "6a60f975-5dae-4e1f-fa1e-d1bb118b54ba"
      },
      "outputs": [
        {
          "output_type": "error",
          "ename": "InvalidArgumentError",
          "evalue": "{{function_node __wrapped__IteratorGetNext_output_types_1_device_/job:localhost/replica:0/task:0/device:CPU:0}} Cannot add tensor to the batch: number of elements does not match. Shapes are: [tensor]: [512], [batch]: [2048] [Op:IteratorGetNext] name: ",
          "traceback": [
            "\u001b[0;31m---------------------------------------------------------------------------\u001b[0m",
            "\u001b[0;31mInvalidArgumentError\u001b[0m                      Traceback (most recent call last)",
            "\u001b[0;32m<ipython-input-14-d7a9bb2db1fb>\u001b[0m in \u001b[0;36m<cell line: 62>\u001b[0;34m()\u001b[0m\n\u001b[1;32m     60\u001b[0m \u001b[0mquery_model\u001b[0m \u001b[0;34m=\u001b[0m \u001b[0mQueryTower\u001b[0m\u001b[0;34m(\u001b[0m\u001b[0;34m)\u001b[0m\u001b[0;34m\u001b[0m\u001b[0;34m\u001b[0m\u001b[0m\n\u001b[1;32m     61\u001b[0m \u001b[0;34m\u001b[0m\u001b[0m\n\u001b[0;32m---> 62\u001b[0;31m \u001b[0mquery_model\u001b[0m\u001b[0;34m.\u001b[0m\u001b[0mnormalized_age\u001b[0m\u001b[0;34m.\u001b[0m\u001b[0madapt\u001b[0m\u001b[0;34m(\u001b[0m\u001b[0mtrain_ds\u001b[0m\u001b[0;34m.\u001b[0m\u001b[0mmap\u001b[0m\u001b[0;34m(\u001b[0m\u001b[0;32mlambda\u001b[0m \u001b[0mx\u001b[0m \u001b[0;34m:\u001b[0m \u001b[0mx\u001b[0m\u001b[0;34m[\u001b[0m\u001b[0;34m\"age\"\u001b[0m\u001b[0;34m]\u001b[0m\u001b[0;34m)\u001b[0m\u001b[0;34m)\u001b[0m\u001b[0;34m\u001b[0m\u001b[0;34m\u001b[0m\u001b[0m\n\u001b[0m\u001b[1;32m     63\u001b[0m \u001b[0;34m\u001b[0m\u001b[0m\n\u001b[1;32m     64\u001b[0m \u001b[0;31m# Initialize model with inputs.\u001b[0m\u001b[0;34m\u001b[0m\u001b[0;34m\u001b[0m\u001b[0m\n",
            "\u001b[0;32m/usr/local/lib/python3.10/dist-packages/keras/src/layers/preprocessing/normalization.py\u001b[0m in \u001b[0;36madapt\u001b[0;34m(self, data)\u001b[0m\n\u001b[1;32m    249\u001b[0m             \u001b[0mtotal_var\u001b[0m \u001b[0;34m=\u001b[0m \u001b[0mops\u001b[0m\u001b[0;34m.\u001b[0m\u001b[0mzeros\u001b[0m\u001b[0;34m(\u001b[0m\u001b[0mself\u001b[0m\u001b[0;34m.\u001b[0m\u001b[0m_mean_and_var_shape\u001b[0m\u001b[0;34m)\u001b[0m\u001b[0;34m\u001b[0m\u001b[0;34m\u001b[0m\u001b[0m\n\u001b[1;32m    250\u001b[0m             \u001b[0mtotal_count\u001b[0m \u001b[0;34m=\u001b[0m \u001b[0;36m0\u001b[0m\u001b[0;34m\u001b[0m\u001b[0;34m\u001b[0m\u001b[0m\n\u001b[0;32m--> 251\u001b[0;31m             \u001b[0;32mfor\u001b[0m \u001b[0mbatch\u001b[0m \u001b[0;32min\u001b[0m \u001b[0mdata\u001b[0m\u001b[0;34m:\u001b[0m\u001b[0;34m\u001b[0m\u001b[0;34m\u001b[0m\u001b[0m\n\u001b[0m\u001b[1;32m    252\u001b[0m                 batch = backend.convert_to_tensor(\n\u001b[1;32m    253\u001b[0m                     \u001b[0mbatch\u001b[0m\u001b[0;34m,\u001b[0m \u001b[0mdtype\u001b[0m\u001b[0;34m=\u001b[0m\u001b[0mself\u001b[0m\u001b[0;34m.\u001b[0m\u001b[0mcompute_dtype\u001b[0m\u001b[0;34m\u001b[0m\u001b[0;34m\u001b[0m\u001b[0m\n",
            "\u001b[0;32m/usr/local/lib/python3.10/dist-packages/tensorflow/python/data/ops/iterator_ops.py\u001b[0m in \u001b[0;36m__next__\u001b[0;34m(self)\u001b[0m\n\u001b[1;32m    824\u001b[0m   \u001b[0;32mdef\u001b[0m \u001b[0m__next__\u001b[0m\u001b[0;34m(\u001b[0m\u001b[0mself\u001b[0m\u001b[0;34m)\u001b[0m\u001b[0;34m:\u001b[0m\u001b[0;34m\u001b[0m\u001b[0;34m\u001b[0m\u001b[0m\n\u001b[1;32m    825\u001b[0m     \u001b[0;32mtry\u001b[0m\u001b[0;34m:\u001b[0m\u001b[0;34m\u001b[0m\u001b[0;34m\u001b[0m\u001b[0m\n\u001b[0;32m--> 826\u001b[0;31m       \u001b[0;32mreturn\u001b[0m \u001b[0mself\u001b[0m\u001b[0;34m.\u001b[0m\u001b[0m_next_internal\u001b[0m\u001b[0;34m(\u001b[0m\u001b[0;34m)\u001b[0m\u001b[0;34m\u001b[0m\u001b[0;34m\u001b[0m\u001b[0m\n\u001b[0m\u001b[1;32m    827\u001b[0m     \u001b[0;32mexcept\u001b[0m \u001b[0merrors\u001b[0m\u001b[0;34m.\u001b[0m\u001b[0mOutOfRangeError\u001b[0m\u001b[0;34m:\u001b[0m\u001b[0;34m\u001b[0m\u001b[0;34m\u001b[0m\u001b[0m\n\u001b[1;32m    828\u001b[0m       \u001b[0;32mraise\u001b[0m \u001b[0mStopIteration\u001b[0m\u001b[0;34m\u001b[0m\u001b[0;34m\u001b[0m\u001b[0m\n",
            "\u001b[0;32m/usr/local/lib/python3.10/dist-packages/tensorflow/python/data/ops/iterator_ops.py\u001b[0m in \u001b[0;36m_next_internal\u001b[0;34m(self)\u001b[0m\n\u001b[1;32m    774\u001b[0m     \u001b[0;31m# to communicate that there is no more data to iterate over.\u001b[0m\u001b[0;34m\u001b[0m\u001b[0;34m\u001b[0m\u001b[0m\n\u001b[1;32m    775\u001b[0m     \u001b[0;32mwith\u001b[0m \u001b[0mcontext\u001b[0m\u001b[0;34m.\u001b[0m\u001b[0mexecution_mode\u001b[0m\u001b[0;34m(\u001b[0m\u001b[0mcontext\u001b[0m\u001b[0;34m.\u001b[0m\u001b[0mSYNC\u001b[0m\u001b[0;34m)\u001b[0m\u001b[0;34m:\u001b[0m\u001b[0;34m\u001b[0m\u001b[0;34m\u001b[0m\u001b[0m\n\u001b[0;32m--> 776\u001b[0;31m       ret = gen_dataset_ops.iterator_get_next(\n\u001b[0m\u001b[1;32m    777\u001b[0m           \u001b[0mself\u001b[0m\u001b[0;34m.\u001b[0m\u001b[0m_iterator_resource\u001b[0m\u001b[0;34m,\u001b[0m\u001b[0;34m\u001b[0m\u001b[0;34m\u001b[0m\u001b[0m\n\u001b[1;32m    778\u001b[0m           \u001b[0moutput_types\u001b[0m\u001b[0;34m=\u001b[0m\u001b[0mself\u001b[0m\u001b[0;34m.\u001b[0m\u001b[0m_flat_output_types\u001b[0m\u001b[0;34m,\u001b[0m\u001b[0;34m\u001b[0m\u001b[0;34m\u001b[0m\u001b[0m\n",
            "\u001b[0;32m/usr/local/lib/python3.10/dist-packages/tensorflow/python/ops/gen_dataset_ops.py\u001b[0m in \u001b[0;36miterator_get_next\u001b[0;34m(iterator, output_types, output_shapes, name)\u001b[0m\n\u001b[1;32m   3084\u001b[0m       \u001b[0;32mreturn\u001b[0m \u001b[0m_result\u001b[0m\u001b[0;34m\u001b[0m\u001b[0;34m\u001b[0m\u001b[0m\n\u001b[1;32m   3085\u001b[0m     \u001b[0;32mexcept\u001b[0m \u001b[0m_core\u001b[0m\u001b[0;34m.\u001b[0m\u001b[0m_NotOkStatusException\u001b[0m \u001b[0;32mas\u001b[0m \u001b[0me\u001b[0m\u001b[0;34m:\u001b[0m\u001b[0;34m\u001b[0m\u001b[0;34m\u001b[0m\u001b[0m\n\u001b[0;32m-> 3086\u001b[0;31m       \u001b[0m_ops\u001b[0m\u001b[0;34m.\u001b[0m\u001b[0mraise_from_not_ok_status\u001b[0m\u001b[0;34m(\u001b[0m\u001b[0me\u001b[0m\u001b[0;34m,\u001b[0m \u001b[0mname\u001b[0m\u001b[0;34m)\u001b[0m\u001b[0;34m\u001b[0m\u001b[0;34m\u001b[0m\u001b[0m\n\u001b[0m\u001b[1;32m   3087\u001b[0m     \u001b[0;32mexcept\u001b[0m \u001b[0m_core\u001b[0m\u001b[0;34m.\u001b[0m\u001b[0m_FallbackException\u001b[0m\u001b[0;34m:\u001b[0m\u001b[0;34m\u001b[0m\u001b[0;34m\u001b[0m\u001b[0m\n\u001b[1;32m   3088\u001b[0m       \u001b[0;32mpass\u001b[0m\u001b[0;34m\u001b[0m\u001b[0;34m\u001b[0m\u001b[0m\n",
            "\u001b[0;32m/usr/local/lib/python3.10/dist-packages/tensorflow/python/framework/ops.py\u001b[0m in \u001b[0;36mraise_from_not_ok_status\u001b[0;34m(e, name)\u001b[0m\n\u001b[1;32m   5981\u001b[0m \u001b[0;32mdef\u001b[0m \u001b[0mraise_from_not_ok_status\u001b[0m\u001b[0;34m(\u001b[0m\u001b[0me\u001b[0m\u001b[0;34m,\u001b[0m \u001b[0mname\u001b[0m\u001b[0;34m)\u001b[0m \u001b[0;34m->\u001b[0m \u001b[0mNoReturn\u001b[0m\u001b[0;34m:\u001b[0m\u001b[0;34m\u001b[0m\u001b[0;34m\u001b[0m\u001b[0m\n\u001b[1;32m   5982\u001b[0m   \u001b[0me\u001b[0m\u001b[0;34m.\u001b[0m\u001b[0mmessage\u001b[0m \u001b[0;34m+=\u001b[0m \u001b[0;34m(\u001b[0m\u001b[0;34m\" name: \"\u001b[0m \u001b[0;34m+\u001b[0m \u001b[0mstr\u001b[0m\u001b[0;34m(\u001b[0m\u001b[0mname\u001b[0m \u001b[0;32mif\u001b[0m \u001b[0mname\u001b[0m \u001b[0;32mis\u001b[0m \u001b[0;32mnot\u001b[0m \u001b[0;32mNone\u001b[0m \u001b[0;32melse\u001b[0m \u001b[0;34m\"\"\u001b[0m\u001b[0;34m)\u001b[0m\u001b[0;34m)\u001b[0m\u001b[0;34m\u001b[0m\u001b[0;34m\u001b[0m\u001b[0m\n\u001b[0;32m-> 5983\u001b[0;31m   \u001b[0;32mraise\u001b[0m \u001b[0mcore\u001b[0m\u001b[0;34m.\u001b[0m\u001b[0m_status_to_exception\u001b[0m\u001b[0;34m(\u001b[0m\u001b[0me\u001b[0m\u001b[0;34m)\u001b[0m \u001b[0;32mfrom\u001b[0m \u001b[0;32mNone\u001b[0m  \u001b[0;31m# pylint: disable=protected-access\u001b[0m\u001b[0;34m\u001b[0m\u001b[0;34m\u001b[0m\u001b[0m\n\u001b[0m\u001b[1;32m   5984\u001b[0m \u001b[0;34m\u001b[0m\u001b[0m\n\u001b[1;32m   5985\u001b[0m \u001b[0;34m\u001b[0m\u001b[0m\n",
            "\u001b[0;31mInvalidArgumentError\u001b[0m: {{function_node __wrapped__IteratorGetNext_output_types_1_device_/job:localhost/replica:0/task:0/device:CPU:0}} Cannot add tensor to the batch: number of elements does not match. Shapes are: [tensor]: [512], [batch]: [2048] [Op:IteratorGetNext] name: "
          ]
        }
      ],
      "source": [
        "class QueryTower(tf.keras.Model):\n",
        "\n",
        "    def __init__(self):\n",
        "        super().__init__()\n",
        "\n",
        "        self.emb_dim = EMB_DIM\n",
        "        self.user_embedding = tf.keras.Sequential([\n",
        "            StringLookup(\n",
        "                vocabulary=user_id_list,\n",
        "                mask_token=None\n",
        "            ),\n",
        "            tf.keras.layers.Embedding(\n",
        "                # You add an additional embedding to account for unknown tokens.\n",
        "                len(user_id_list) + 1,\n",
        "                self.emb_dim\n",
        "            )\n",
        "        ])\n",
        "\n",
        "        self.normalized_age = Normalization(axis=None)\n",
        "\n",
        "        # Converts strings into integer indices (scikit-learn LabelEncoder analog)\n",
        "        self.gender_tokenizer = StringLookup(\n",
        "            vocabulary=gender_list,\n",
        "            mask_token=None,\n",
        "        )\n",
        "\n",
        "        self.country_tokenizer = StringLookup(\n",
        "            vocabulary=countries_list,\n",
        "            mask_token=None,\n",
        "        )\n",
        "\n",
        "        self.fnn = tf.keras.Sequential([\n",
        "            tf.keras.layers.Dense(self.emb_dim, activation=\"relu\"),\n",
        "            tf.keras.layers.Dense(self.emb_dim)\n",
        "        ])\n",
        "\n",
        "    def call(self, inputs):\n",
        "        gender_embedding = tf.one_hot(\n",
        "            self.gender_tokenizer(inputs[\"gender\"]),\n",
        "            len(gender_list),\n",
        "        )\n",
        "\n",
        "        country_embedding = tf.one_hot(\n",
        "            self.country_tokenizer(inputs[\"country\"]),\n",
        "            len(countries_list),\n",
        "        )\n",
        "\n",
        "        concatenated_inputs = tf.concat([\n",
        "            self.user_embedding(inputs[\"user_id\"]),\n",
        "            tf.reshape(self.normalized_age(inputs[\"age\"]), (-1,1)),\n",
        "            gender_embedding,\n",
        "            country_embedding,\n",
        "        ], axis=1)\n",
        "\n",
        "        outputs = self.fnn(concatenated_inputs)\n",
        "\n",
        "        return outputs\n",
        "\n",
        "\n",
        "query_model = QueryTower()\n",
        "\n",
        "query_model.normalized_age.adapt(train_ds.map(lambda x : x[\"age\"]))\n",
        "\n",
        "# Initialize model with inputs.\n",
        "query_df = train_df[QUERY_FEATURES]\n",
        "query_ds = df_to_ds(query_df).batch(1)\n",
        "query_model(next(iter(query_ds)))"
      ]
    },
    {
      "cell_type": "code",
      "execution_count": null,
      "id": "04965563",
      "metadata": {
        "id": "04965563",
        "outputId": "467b659a-8df5-43a8-a4e2-d2fe52e6fb63"
      },
      "outputs": [
        {
          "data": {
            "text/plain": [
              "<tf.Tensor: shape=(1, 16), dtype=float32, numpy=\n",
              "array([[ -8337.219 ,    271.7439,   6766.8276,  -5961.2393,   4387.9194,\n",
              "         -2594.7898,   -959.5883,  11187.032 ,  -5418.3667,   3178.5222,\n",
              "           530.5153,  16850.271 ,  -1287.1066,  -2689.3015, -12817.958 ,\n",
              "          7989.92  ]], dtype=float32)>"
            ]
          },
          "execution_count": 29,
          "metadata": {},
          "output_type": "execute_result"
        }
      ],
      "source": [
        "class ItemTower(tf.keras.Model):\n",
        "\n",
        "    def __init__(self):\n",
        "        super().__init__()\n",
        "\n",
        "        self.emb_dim = EMB_DIM\n",
        "        self.video_embedding = tf.keras.Sequential([\n",
        "            StringLookup(\n",
        "                vocabulary=video_id_list,\n",
        "                mask_token=None\n",
        "            ),\n",
        "            tf.keras.layers.Embedding(\n",
        "                # You add an additional embedding to account for unknown tokens.\n",
        "                len(video_id_list) + 1,\n",
        "                self.emb_dim,\n",
        "            )\n",
        "        ])\n",
        "\n",
        "        # Converts strings into integer indices (scikit-learn LabelEncoder analog)\n",
        "        self.category_tokenizer = StringLookup(\n",
        "            vocabulary=category_list,\n",
        "            mask_token=None,\n",
        "        )\n",
        "\n",
        "        self.normalized_views = Normalization(axis=None)\n",
        "        self.normalized_likes = Normalization(axis=None)\n",
        "        self.normalized_video_length = Normalization(axis=None)\n",
        "\n",
        "        self.fnn = tf.keras.Sequential([\n",
        "            tf.keras.layers.Dense(self.emb_dim, activation=\"relu\"),\n",
        "            tf.keras.layers.Dense(self.emb_dim)\n",
        "        ])\n",
        "\n",
        "    def call(self, inputs):\n",
        "        category_embedding = tf.one_hot(\n",
        "            self.category_tokenizer(inputs[\"category\"]),\n",
        "            len(category_list),\n",
        "        )\n",
        "\n",
        "        concatenated_inputs = tf.concat([\n",
        "            self.video_embedding(inputs[\"video_id\"]),\n",
        "            category_embedding,\n",
        "            tf.reshape(self.normalized_views(inputs[\"views\"]), (-1,1)),\n",
        "            tf.reshape(self.normalized_views(inputs[\"likes\"]), (-1,1)),\n",
        "            tf.reshape(self.normalized_views(inputs[\"video_length\"]), (-1,1)),\n",
        "        ], axis=1)\n",
        "\n",
        "        outputs = self.fnn(concatenated_inputs)\n",
        "\n",
        "        return outputs\n",
        "\n",
        "\n",
        "item_model = ItemTower()\n",
        "\n",
        "item_df = train_df[CANDIDATE_FEATURES]\n",
        "item_df.drop_duplicates(subset=\"video_id\", inplace=True)\n",
        "item_ds = df_to_ds(item_df)\n",
        "\n",
        "item_model(next(iter(item_ds.batch(1))))"
      ]
    },
    {
      "cell_type": "code",
      "execution_count": null,
      "id": "440193f8",
      "metadata": {
        "id": "440193f8"
      },
      "outputs": [],
      "source": [
        "class TwoTowerModel(tf.keras.Model):\n",
        "    def __init__(self, query_model, item_model):\n",
        "        super().__init__()\n",
        "        self.query_model = query_model\n",
        "        self.item_model = item_model\n",
        "        self.task = tfrs.tasks.Retrieval(\n",
        "            metrics=tfrs.metrics.FactorizedTopK(\n",
        "                candidates=item_ds.batch(BATCH_SIZE).map(self.item_model)\n",
        "            )\n",
        "        )\n",
        "\n",
        "    def train_step(self, batch) -> tf.Tensor:\n",
        "        # Set up a gradient tape to record gradients.\n",
        "        with tf.GradientTape() as tape:\n",
        "\n",
        "            # Loss computation.\n",
        "            user_embeddings = self.query_model(batch)\n",
        "            item_embeddings = self.item_model(batch)\n",
        "            loss = self.task(\n",
        "                user_embeddings,\n",
        "                item_embeddings,\n",
        "                compute_metrics=False,\n",
        "            )\n",
        "\n",
        "            # Handle regularization losses as well.\n",
        "            regularization_loss = sum(self.losses)\n",
        "\n",
        "            total_loss = loss + regularization_loss\n",
        "\n",
        "        gradients = tape.gradient(total_loss, self.trainable_variables)\n",
        "        self.optimizer.apply_gradients(zip(gradients, self.trainable_variables))\n",
        "\n",
        "        metrics = {\n",
        "            \"loss\": loss,\n",
        "            \"regularization_loss\": regularization_loss,\n",
        "            \"total_loss\": total_loss\n",
        "        }\n",
        "\n",
        "        return metrics\n",
        "\n",
        "    def test_step(self, batch) -> tf.Tensor:\n",
        "        # Loss computation.\n",
        "        user_embeddings = self.query_model(batch)\n",
        "        item_embeddings = self.item_model(batch)\n",
        "\n",
        "        loss = self.task(\n",
        "            user_embeddings,\n",
        "            item_embeddings,\n",
        "            compute_metrics=False,\n",
        "        )\n",
        "\n",
        "        # Handle regularization losses as well.\n",
        "        regularization_loss = sum(self.losses)\n",
        "\n",
        "        total_loss = loss + regularization_loss\n",
        "\n",
        "        metrics = {metric.name: metric.result() for metric in self.metrics}\n",
        "        metrics[\"loss\"] = loss\n",
        "        metrics[\"regularization_loss\"] = regularization_loss\n",
        "        metrics[\"total_loss\"] = total_loss\n",
        "\n",
        "        return metrics"
      ]
    },
    {
      "cell_type": "markdown",
      "id": "5bf66678",
      "metadata": {
        "id": "5bf66678"
      },
      "source": [
        "### <span style=\"color:#ff5f27\">🏃🏻‍♂️ Model Training </span>\n",
        "\n",
        "You'll train our model using the AdamW optimizer, which applies weight regularization during training."
      ]
    },
    {
      "cell_type": "code",
      "execution_count": null,
      "id": "e96e26c3",
      "metadata": {
        "id": "e96e26c3"
      },
      "outputs": [],
      "source": [
        "# Create a TwoTowerModel with the specified query_model and item_model\n",
        "model = TwoTowerModel(query_model, item_model)\n",
        "\n",
        "# Define an optimizer using AdamW with a learning rate of 0.01\n",
        "optimizer = tf.keras.optimizers.AdamW(\n",
        "    weight_decay=0.001,\n",
        "    learning_rate=0.01,\n",
        ")\n",
        "\n",
        "# Compile the model using the specified optimizer\n",
        "model.compile(optimizer=optimizer)"
      ]
    },
    {
      "cell_type": "code",
      "execution_count": null,
      "id": "46ea848e",
      "metadata": {
        "id": "46ea848e",
        "outputId": "6414212c-c0ab-4ff5-a296-dd369a6be0e5"
      },
      "outputs": [
        {
          "name": "stdout",
          "output_type": "stream",
          "text": [
            "Epoch 1/5\n",
            "395/395 [==============================] - 27s 62ms/step - loss: 228725.1049 - regularization_loss: 0.0000e+00 - total_loss: 228725.1049 - val_factorized_top_k/top_1_categorical_accuracy: 0.0000e+00 - val_factorized_top_k/top_5_categorical_accuracy: 0.0000e+00 - val_factorized_top_k/top_10_categorical_accuracy: 0.0000e+00 - val_factorized_top_k/top_50_categorical_accuracy: 0.0000e+00 - val_factorized_top_k/top_100_categorical_accuracy: 0.0000e+00 - val_loss: 4195.9941 - val_regularization_loss: 0.0000e+00 - val_total_loss: 4195.9941\n",
            "Epoch 2/5\n",
            "395/395 [==============================] - 25s 62ms/step - loss: 15967.3948 - regularization_loss: 0.0000e+00 - total_loss: 15967.3948 - val_factorized_top_k/top_1_categorical_accuracy: 0.0000e+00 - val_factorized_top_k/top_5_categorical_accuracy: 0.0000e+00 - val_factorized_top_k/top_10_categorical_accuracy: 0.0000e+00 - val_factorized_top_k/top_50_categorical_accuracy: 0.0000e+00 - val_factorized_top_k/top_100_categorical_accuracy: 0.0000e+00 - val_loss: 4194.6382 - val_regularization_loss: 0.0000e+00 - val_total_loss: 4194.6382\n",
            "Epoch 3/5\n",
            "395/395 [==============================] - 24s 62ms/step - loss: 15596.5589 - regularization_loss: 0.0000e+00 - total_loss: 15596.5589 - val_factorized_top_k/top_1_categorical_accuracy: 0.0000e+00 - val_factorized_top_k/top_5_categorical_accuracy: 0.0000e+00 - val_factorized_top_k/top_10_categorical_accuracy: 0.0000e+00 - val_factorized_top_k/top_50_categorical_accuracy: 0.0000e+00 - val_factorized_top_k/top_100_categorical_accuracy: 0.0000e+00 - val_loss: 4195.6143 - val_regularization_loss: 0.0000e+00 - val_total_loss: 4195.6143\n",
            "Epoch 4/5\n",
            "395/395 [==============================] - 25s 63ms/step - loss: 15594.8566 - regularization_loss: 0.0000e+00 - total_loss: 15594.8566 - val_factorized_top_k/top_1_categorical_accuracy: 0.0000e+00 - val_factorized_top_k/top_5_categorical_accuracy: 0.0000e+00 - val_factorized_top_k/top_10_categorical_accuracy: 0.0000e+00 - val_factorized_top_k/top_50_categorical_accuracy: 0.0000e+00 - val_factorized_top_k/top_100_categorical_accuracy: 0.0000e+00 - val_loss: 4196.0293 - val_regularization_loss: 0.0000e+00 - val_total_loss: 4196.0293\n",
            "Epoch 5/5\n",
            "395/395 [==============================] - 1666s 4s/step - loss: 15701.5888 - regularization_loss: 0.0000e+00 - total_loss: 15701.5888 - val_factorized_top_k/top_1_categorical_accuracy: 0.0000e+00 - val_factorized_top_k/top_5_categorical_accuracy: 0.0000e+00 - val_factorized_top_k/top_10_categorical_accuracy: 0.0000e+00 - val_factorized_top_k/top_50_categorical_accuracy: 0.0000e+00 - val_factorized_top_k/top_100_categorical_accuracy: 0.0000e+00 - val_loss: 4233.3628 - val_regularization_loss: 0.0000e+00 - val_total_loss: 4233.3628\n"
          ]
        },
        {
          "data": {
            "text/plain": [
              "<keras.src.callbacks.History at 0x7f6cdde07be0>"
            ]
          },
          "execution_count": 32,
          "metadata": {},
          "output_type": "execute_result"
        }
      ],
      "source": [
        "model.fit(\n",
        "    train_ds,\n",
        "    validation_data=val_ds,\n",
        "    epochs=5,\n",
        ")"
      ]
    },
    {
      "cell_type": "markdown",
      "id": "6eb20b1e",
      "metadata": {
        "id": "6eb20b1e"
      },
      "source": [
        "## <span style=\"color:#ff5f27\">🗄️ Upload Model to Model Registry </span>\n",
        "\n",
        "One of the features in Hopsworks is the model registry. This is where you can store different versions of models and compare their performance. Models from the registry can then be served as API endpoints.\n",
        "\n",
        "Let's connect to the model registry using the [HSML library](https://docs.hopsworks.ai/machine-learning-api/latest) from Hopsworks."
      ]
    },
    {
      "cell_type": "code",
      "execution_count": null,
      "id": "aac5bd7f",
      "metadata": {
        "id": "aac5bd7f",
        "outputId": "4f4c7a33-bc86-4c8c-c3c1-b91a44968b76"
      },
      "outputs": [
        {
          "name": "stdout",
          "output_type": "stream",
          "text": [
            "Connected. Call `.close()` to terminate connection gracefully.\n"
          ]
        }
      ],
      "source": [
        "mr = project.get_model_registry()"
      ]
    },
    {
      "cell_type": "code",
      "execution_count": null,
      "id": "6e3fe643",
      "metadata": {
        "id": "6e3fe643"
      },
      "outputs": [],
      "source": [
        "class QueryModelModule(tf.Module):\n",
        "    def __init__(self, query_model):\n",
        "        self.query_model = query_model\n",
        "\n",
        "    @tf.function()\n",
        "    def compute_emb(self, instances):\n",
        "        query_emb = self.query_model(instances)\n",
        "        return {\n",
        "            \"user_id\": instances[\"user_id\"],\n",
        "            \"gender\": instances[\"gender\"],\n",
        "            \"age\": instances[\"age\"],\n",
        "            \"country\": instances[\"country\"],\n",
        "            \"query_emb\": query_emb,\n",
        "        }\n",
        "\n",
        "# wrap query_model:   query_model -> query_model_module\n",
        "query_model = QueryModelModule(model.query_model)"
      ]
    },
    {
      "cell_type": "code",
      "execution_count": null,
      "id": "49a54c08",
      "metadata": {
        "id": "49a54c08",
        "outputId": "f0c76680-47f4-4d6e-e813-7730e33f0496"
      },
      "outputs": [
        {
          "name": "stdout",
          "output_type": "stream",
          "text": [
            "2024-10-01 17:22:37,692 INFO: Function `compute_emb` contains input name(s) table_handle, 16213, resource with unsupported characters which will be renamed to query_tower_sequential_string_lookup_none_lookup_lookuptablefindv2_table_handle, query_tower_sequential_embedding_embedding_lookup_16213, query_tower_sequential_1_dense_1_biasadd_readvariableop_resource in the SavedModel.\n",
            "INFO:tensorflow:Assets written to: query_model/assets\n",
            "2024-10-01 17:22:42,016 INFO: Assets written to: query_model/assets\n"
          ]
        }
      ],
      "source": [
        "# Define the input specifications for the instances\n",
        "instances_spec = {\n",
        "    'user_id': tf.TensorSpec(shape=(None,), dtype=tf.string, name='user_id'),   # Specification for user IDs\n",
        "    'gender': tf.TensorSpec(shape=(None,), dtype=tf.string, name='gender'),     # Specification for gender\n",
        "    'country': tf.TensorSpec(shape=(None,), dtype=tf.string, name='country'),    # Specification for country\n",
        "    'age': tf.TensorSpec(shape=(None,), dtype=tf.int64, name='age'),              # Specification for age\n",
        "}\n",
        "\n",
        "# Get the concrete function for the query_model's compute_emb function using the specified input signatures\n",
        "signatures = query_model.compute_emb.get_concrete_function(instances_spec)\n",
        "\n",
        "# Save the query_model along with the concrete function signatures\n",
        "tf.saved_model.save(\n",
        "    query_model,           # The model to save\n",
        "    \"query_model\",         # Path to save the model\n",
        "    signatures=signatures, # Concrete function signatures to include\n",
        ")"
      ]
    },
    {
      "cell_type": "code",
      "execution_count": null,
      "id": "1ed39777",
      "metadata": {
        "id": "1ed39777",
        "outputId": "271ac48d-62f3-459d-dcb9-21fcc4783645"
      },
      "outputs": [
        {
          "name": "stdout",
          "output_type": "stream",
          "text": [
            "WARNING:tensorflow:Skipping full serialization of Keras layer <keras.src.layers.preprocessing.normalization.Normalization object at 0x7f6ccc452050>, because it is not built.\n",
            "2024-10-01 17:22:42,632 WARNING: Skipping full serialization of Keras layer <keras.src.layers.preprocessing.normalization.Normalization object at 0x7f6ccc452050>, because it is not built.\n",
            "WARNING:tensorflow:Skipping full serialization of Keras layer <keras.src.layers.preprocessing.normalization.Normalization object at 0x7f6cf54f64d0>, because it is not built.\n",
            "2024-10-01 17:22:42,635 WARNING: Skipping full serialization of Keras layer <keras.src.layers.preprocessing.normalization.Normalization object at 0x7f6cf54f64d0>, because it is not built.\n",
            "INFO:tensorflow:Assets written to: candidate_model/assets\n",
            "2024-10-01 17:22:45,419 INFO: Assets written to: candidate_model/assets\n"
          ]
        }
      ],
      "source": [
        "tf.saved_model.save(\n",
        "    model.item_model,    # The model to save\n",
        "    \"candidate_model\",   # Path to save the model\n",
        ")"
      ]
    },
    {
      "cell_type": "code",
      "execution_count": null,
      "id": "baa9ce26",
      "metadata": {
        "id": "baa9ce26",
        "outputId": "b4966d66-721d-4653-c06c-63a65e9f3554"
      },
      "outputs": [
        {
          "data": {
            "text/plain": [
              "{'input_schema': {'columnar_schema': [{'name': 'user_id', 'type': 'object'},\n",
              "   {'name': 'gender', 'type': 'object'},\n",
              "   {'name': 'age', 'type': 'int64'},\n",
              "   {'name': 'country', 'type': 'object'}]},\n",
              " 'output_schema': {'tensor_schema': [{'name': 'query_embedding',\n",
              "    'shape': '[16]',\n",
              "    'type': 'float32'}]}}"
            ]
          },
          "execution_count": 37,
          "metadata": {},
          "output_type": "execute_result"
        }
      ],
      "source": [
        "from hsml.schema import Schema\n",
        "from hsml.model_schema import ModelSchema\n",
        "\n",
        "# Infer input schema from data.\n",
        "query_model_input_schema = Schema(query_df)\n",
        "\n",
        "# Manually specify output schema.\n",
        "query_model_output_schema = Schema([{\n",
        "    \"name\": \"query_embedding\",\n",
        "    \"type\": \"float32\",\n",
        "    \"shape\": [EMB_DIM],\n",
        "}])\n",
        "\n",
        "query_model_schema = ModelSchema(\n",
        "    input_schema=query_model_input_schema,\n",
        "    output_schema=query_model_output_schema,\n",
        ")\n",
        "\n",
        "query_model_schema.to_dict()"
      ]
    },
    {
      "cell_type": "code",
      "execution_count": null,
      "id": "013612bb",
      "metadata": {
        "colab": {
          "referenced_widgets": [
            "75f4925104244389ae6bcb6852d54b0f",
            "8ee6f444858c4786b051ab8211fcff41",
            "e5dc638e462f461da21b116e6ee637fc",
            "7272cda15a804bfd9e4c092b34b83fec",
            "bd702008eec64446892f6141ca644c7d",
            "839fb96bde36454b8ee0cdaacaaf5fa6",
            "0b049c6ae5034f53b59bf6749c52cceb"
          ]
        },
        "id": "013612bb",
        "outputId": "9b807c83-dbaf-48e2-ab89-878f68236c2b"
      },
      "outputs": [
        {
          "data": {
            "application/vnd.jupyter.widget-view+json": {
              "model_id": "75f4925104244389ae6bcb6852d54b0f",
              "version_major": 2,
              "version_minor": 0
            },
            "text/plain": [
              "  0%|          | 0/6 [00:00<?, ?it/s]"
            ]
          },
          "metadata": {},
          "output_type": "display_data"
        },
        {
          "data": {
            "application/vnd.jupyter.widget-view+json": {
              "model_id": "8ee6f444858c4786b051ab8211fcff41",
              "version_major": 2,
              "version_minor": 0
            },
            "text/plain": [
              "Uploading: 0.000%|          | 0/562094 elapsed<00:00 remaining<?"
            ]
          },
          "metadata": {},
          "output_type": "display_data"
        },
        {
          "data": {
            "application/vnd.jupyter.widget-view+json": {
              "model_id": "e5dc638e462f461da21b116e6ee637fc",
              "version_major": 2,
              "version_minor": 0
            },
            "text/plain": [
              "Uploading: 0.000%|          | 0/55 elapsed<00:00 remaining<?"
            ]
          },
          "metadata": {},
          "output_type": "display_data"
        },
        {
          "data": {
            "application/vnd.jupyter.widget-view+json": {
              "model_id": "7272cda15a804bfd9e4c092b34b83fec",
              "version_major": 2,
              "version_minor": 0
            },
            "text/plain": [
              "Uploading: 0.000%|          | 0/576 elapsed<00:00 remaining<?"
            ]
          },
          "metadata": {},
          "output_type": "display_data"
        },
        {
          "data": {
            "application/vnd.jupyter.widget-view+json": {
              "model_id": "bd702008eec64446892f6141ca644c7d",
              "version_major": 2,
              "version_minor": 0
            },
            "text/plain": [
              "Uploading: 0.000%|          | 0/1688053 elapsed<00:00 remaining<?"
            ]
          },
          "metadata": {},
          "output_type": "display_data"
        },
        {
          "data": {
            "application/vnd.jupyter.widget-view+json": {
              "model_id": "839fb96bde36454b8ee0cdaacaaf5fa6",
              "version_major": 2,
              "version_minor": 0
            },
            "text/plain": [
              "Uploading: 0.000%|          | 0/78 elapsed<00:00 remaining<?"
            ]
          },
          "metadata": {},
          "output_type": "display_data"
        },
        {
          "data": {
            "application/vnd.jupyter.widget-view+json": {
              "model_id": "0b049c6ae5034f53b59bf6749c52cceb",
              "version_major": 2,
              "version_minor": 0
            },
            "text/plain": [
              "Uploading: 0.000%|          | 0/484 elapsed<00:00 remaining<?"
            ]
          },
          "metadata": {},
          "output_type": "display_data"
        },
        {
          "name": "stdout",
          "output_type": "stream",
          "text": [
            "Model created, explore it at https://c.app.hopsworks.ai:443/p/17565/models/query_model/1\n"
          ]
        },
        {
          "data": {
            "text/plain": [
              "Model(name: 'query_model', version: 1)"
            ]
          },
          "execution_count": 38,
          "metadata": {},
          "output_type": "execute_result"
        }
      ],
      "source": [
        "# Sample a query example from the query DataFrame\n",
        "query_example = query_df.sample().to_dict(\"records\")\n",
        "\n",
        "# Create a tensorflow model for the query_model in the Model Registry\n",
        "mr_query_model = mr.tensorflow.create_model(\n",
        "    name=\"query_model\",                                           # Name of the model\n",
        "    description=\"Model that generates query embeddings from user features\",  # Description of the model\n",
        "    input_example=query_example,                                  # Example input for the model\n",
        "    model_schema=query_model_schema,                              # Schema of the model\n",
        ")\n",
        "\n",
        "# Save the query_model to the Model Registry\n",
        "mr_query_model.save(\"query_model\")                                # Path to save the model"
      ]
    },
    {
      "cell_type": "code",
      "execution_count": null,
      "id": "4535c5ad",
      "metadata": {
        "colab": {
          "referenced_widgets": [
            "aa755ed1ea554af19df8e5353bd0aa7c",
            "684fc205afb8445484ed0d2d3fa38900",
            "acf1fdfeb57447afb37c2134998977c2",
            "69b2c9fbcc884c29a9fd9288c1b9793b",
            "ee37fc77ab484dfb97a30a5bc257cc3c",
            "49b654de78e64a2e84003e44c35d15ec",
            "75fde171bb474959b82ad19e3d03cdc2"
          ]
        },
        "id": "4535c5ad",
        "outputId": "e3a06291-0499-4094-a285-936e7bd13025"
      },
      "outputs": [
        {
          "data": {
            "application/vnd.jupyter.widget-view+json": {
              "model_id": "aa755ed1ea554af19df8e5353bd0aa7c",
              "version_major": 2,
              "version_minor": 0
            },
            "text/plain": [
              "  0%|          | 0/6 [00:00<?, ?it/s]"
            ]
          },
          "metadata": {},
          "output_type": "display_data"
        },
        {
          "data": {
            "application/vnd.jupyter.widget-view+json": {
              "model_id": "684fc205afb8445484ed0d2d3fa38900",
              "version_major": 2,
              "version_minor": 0
            },
            "text/plain": [
              "Uploading: 0.000%|          | 0/527309 elapsed<00:00 remaining<?"
            ]
          },
          "metadata": {},
          "output_type": "display_data"
        },
        {
          "data": {
            "application/vnd.jupyter.widget-view+json": {
              "model_id": "acf1fdfeb57447afb37c2134998977c2",
              "version_major": 2,
              "version_minor": 0
            },
            "text/plain": [
              "Uploading: 0.000%|          | 0/57 elapsed<00:00 remaining<?"
            ]
          },
          "metadata": {},
          "output_type": "display_data"
        },
        {
          "data": {
            "application/vnd.jupyter.widget-view+json": {
              "model_id": "69b2c9fbcc884c29a9fd9288c1b9793b",
              "version_major": 2,
              "version_minor": 0
            },
            "text/plain": [
              "Uploading: 0.000%|          | 0/562 elapsed<00:00 remaining<?"
            ]
          },
          "metadata": {},
          "output_type": "display_data"
        },
        {
          "data": {
            "application/vnd.jupyter.widget-view+json": {
              "model_id": "ee37fc77ab484dfb97a30a5bc257cc3c",
              "version_major": 2,
              "version_minor": 0
            },
            "text/plain": [
              "Uploading: 0.000%|          | 0/1671587 elapsed<00:00 remaining<?"
            ]
          },
          "metadata": {},
          "output_type": "display_data"
        },
        {
          "data": {
            "application/vnd.jupyter.widget-view+json": {
              "model_id": "49b654de78e64a2e84003e44c35d15ec",
              "version_major": 2,
              "version_minor": 0
            },
            "text/plain": [
              "Uploading: 0.000%|          | 0/102 elapsed<00:00 remaining<?"
            ]
          },
          "metadata": {},
          "output_type": "display_data"
        },
        {
          "data": {
            "application/vnd.jupyter.widget-view+json": {
              "model_id": "75fde171bb474959b82ad19e3d03cdc2",
              "version_major": 2,
              "version_minor": 0
            },
            "text/plain": [
              "Uploading: 0.000%|          | 0/563 elapsed<00:00 remaining<?"
            ]
          },
          "metadata": {},
          "output_type": "display_data"
        },
        {
          "name": "stdout",
          "output_type": "stream",
          "text": [
            "Model created, explore it at https://c.app.hopsworks.ai:443/p/17565/models/candidate_model/1\n"
          ]
        },
        {
          "data": {
            "text/plain": [
              "Model(name: 'candidate_model', version: 1)"
            ]
          },
          "execution_count": 39,
          "metadata": {},
          "output_type": "execute_result"
        }
      ],
      "source": [
        "# Define the input schema for the candidate_model based on item_df\n",
        "candidate_model_input_schema = Schema(item_df)\n",
        "\n",
        "# Define the output schema for the candidate_model, specifying the shape and type of the output\n",
        "candidate_model_output_schema = Schema([{\n",
        "    \"name\": \"candidate_embedding\",   # Name of the output feature\n",
        "    \"type\": \"float32\",               # Data type of the output feature\n",
        "    \"shape\": [EMB_DIM],              # Shape of the output feature\n",
        "}])\n",
        "\n",
        "# Combine the input and output schemas to create the overall model schema for the candidate_model\n",
        "candidate_model_schema = ModelSchema(\n",
        "    input_schema=candidate_model_input_schema,    # Input schema for the model\n",
        "    output_schema=candidate_model_output_schema,  # Output schema for the model\n",
        ")\n",
        "\n",
        "# Sample a candidate example from the item DataFrame\n",
        "candidate_example = item_df.sample().to_dict(\"records\")\n",
        "\n",
        "# Create a tensorflow model for the candidate_model in the Model Registry\n",
        "mr_candidate_model = mr.tensorflow.create_model(\n",
        "    name=\"candidate_model\",                                        # Name of the model\n",
        "    description=\"Model that generates candidate embeddings from video features\",  # Description of the model\n",
        "    input_example=candidate_example,                              # Example input for the model\n",
        "    model_schema=candidate_model_schema,                          # Schema of the model\n",
        ")\n",
        "\n",
        "# Save the candidate_model to the Model Registry\n",
        "mr_candidate_model.save(\"candidate_model\")                        # Path to save the model"
      ]
    },
    {
      "cell_type": "markdown",
      "id": "657e0ba1",
      "metadata": {
        "id": "657e0ba1"
      },
      "source": [
        "---"
      ]
    },
    {
      "cell_type": "code",
      "execution_count": null,
      "id": "fbbf7579-492f-4dcd-8071-a6062b6e0262",
      "metadata": {
        "id": "fbbf7579-492f-4dcd-8071-a6062b6e0262"
      },
      "outputs": [],
      "source": []
    }
  ],
  "metadata": {
    "kernelspec": {
      "display_name": "Python 3",
      "name": "python3"
    },
    "language_info": {
      "codemirror_mode": {
        "name": "ipython",
        "version": 3
      },
      "file_extension": ".py",
      "mimetype": "text/x-python",
      "name": "python",
      "nbconvert_exporter": "python",
      "pygments_lexer": "ipython3",
      "version": "3.10.0"
    },
    "colab": {
      "provenance": [],
      "machine_shape": "hm",
      "gpuType": "A100",
      "include_colab_link": true
    },
    "accelerator": "GPU"
  },
  "nbformat": 4,
  "nbformat_minor": 5
}